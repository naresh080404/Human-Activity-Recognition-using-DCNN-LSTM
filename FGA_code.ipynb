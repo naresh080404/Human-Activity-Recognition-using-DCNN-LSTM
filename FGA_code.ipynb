{
 "cells": [
  {
   "cell_type": "code",
   "execution_count": null,
   "id": "0c99cecc",
   "metadata": {
    "scrolled": true
   },
   "outputs": [],
   "source": [
    "import numpy as np\n",
    "import pandas as pd\n",
    "X_trainpd = pd.read_csv(\"UCI HAR Dataset/train/X_train.txt\",delim_whitespace=True, header=None).values\n",
    "y_trainpd = pd.read_csv(\"UCI HAR Dataset/train/y_train.txt\",delim_whitespace=True, header=None).values.ravel()\n",
    "X_testpd = pd.read_csv(\"UCI HAR Dataset/test/X_test.txt\",delim_whitespace=True, header=None).values\n",
    "y_testpd = pd.read_csv(\"UCI HAR Dataset/test/y_test.txt\",delim_whitespace=True, header=None).values.ravel()\n",
    "X_combined = pd.concat([pd.DataFrame(X_trainpd), pd.DataFrame(X_testpd)])\n",
    "y_combined = pd.concat([pd.Series(y_trainpd), pd.Series(y_testpd)])"
   ]
  },
  {
   "cell_type": "code",
   "execution_count": null,
   "id": "786330f6",
   "metadata": {},
   "outputs": [],
   "source": [
    "from deap import base, creator, tools, algorithms\n",
    "num_features = X_combined.shape[1]\n",
    "def attribute_from_dataset():\n",
    "    return X_combined"
   ]
  },
  {
   "cell_type": "code",
   "execution_count": null,
   "id": "50f498ac",
   "metadata": {},
   "outputs": [],
   "source": [
    "def gaussian_membership(x, x_hat, theta):\n",
    "    return np.exp(-((x - x_hat) ** 2) / (2 * theta ** 2))"
   ]
  },
  {
   "cell_type": "code",
   "execution_count": null,
   "id": "39d83054",
   "metadata": {},
   "outputs": [],
   "source": [
    "def fuzzy_rules(features):\n",
    "    average, maximum, minimum, std_deviation, variance = features\n",
    "    fuzzy_classification = None\n",
    "    if all(avg > -0.6 and mini > 0.2 and maxi > -0.7 and std > 0.1 for avg, mini, maxi, var,std in zip(average, minimum, maximum, variance, std_deviation)):\n",
    "        fuzzy_classification = \"BEST\"\n",
    "    elif all(avg > -0.6 and mini > 0.2 and maxi > -0.7 and std <=0.1 for avg, mini, maxi,var, std in zip(average, minimum, maximum, variance, std_deviation)):\n",
    "        fuzzy_classification = \"GOOD\"\n",
    "    else:\n",
    "        fuzzy_classification = \"BAD\"\n",
    "    return fuzzy_classification"
   ]
  },
  {
   "cell_type": "code",
   "execution_count": null,
   "id": "6d0eb765",
   "metadata": {},
   "outputs": [],
   "source": [
    "creator.create(\"FitnessMax\", base.Fitness, weights=(1.0,))\n",
    "creator.create(\"Individual\", list, fitness=creator.FitnessMax)\n",
    "toolbox = base.Toolbox()\n",
    "toolbox.register(\"attr_float\",attribute_from_dataset)\n",
    "toolbox.register(\"individual\", tools.initRepeat, creator.Individual, toolbox.attr_float,n=num_features)\n",
    "toolbox.register(\"population\", tools.initRepeat, list, toolbox.individual)"
   ]
  },
  {
   "cell_type": "code",
   "execution_count": null,
   "id": "b6630b71",
   "metadata": {},
   "outputs": [],
   "source": [
    "def fuzzy_fitness(individual):\n",
    "    selected_columns = [i for i in range(561)]\n",
    "    feature=np.take(X_combined,selected_columns,axis=1)\n",
    "    average = np.mean(feature,axis=0)\n",
    "    maximum = np.max(feature,axis=0)\n",
    "    minimum = np.min(feature,axis=0)\n",
    "    std_deviation = np.std(feature,axis=0)\n",
    "    variance = np.var(feature,axis=0)\n",
    "    features=[average,maximum,minimum,std_deviation,variance]\n",
    "    fuzzy_classification = fuzzy_rules(features)\n",
    "    gaussian_values = []\n",
    "    for col_avg, col_std in zip(average, std_deviation):\n",
    "        gaussian_value = gaussian_membership(col_avg, 0.5, col_std)\n",
    "        gaussian_values.append(gaussian_value)\n",
    "    gaussian_value=np.prod(gaussian_values)\n",
    "    if fuzzy_classification == 'BEST':\n",
    "        fitness_value = 0.4 *gaussian_value\n",
    "    elif fuzzy_classification == 'GOOD':\n",
    "        fitness_value = 0.3 *gaussian_value\n",
    "    else:\n",
    "        fitness_value = 0.3\n",
    "    return (fitness_value,)"
   ]
  },
  {
   "cell_type": "code",
   "execution_count": null,
   "id": "e8cf1e2f",
   "metadata": {},
   "outputs": [],
   "source": [
    "toolbox.register(\"evaluate\", fuzzy_fitness)\n",
    "toolbox.register(\"mate\", tools.cxBlend, alpha=0.5)\n",
    "toolbox.register(\"mutate\", tools.mutGaussian, mu=0, sigma=0.2, indpb=0.2)"
   ]
  },
  {
   "cell_type": "code",
   "execution_count": null,
   "id": "c0475070",
   "metadata": {},
   "outputs": [],
   "source": [
    "def tournament_selection(population, k):\n",
    "    tournsize = 5 # Specify the value of tournsize here\n",
    "    selected = []\n",
    "    indices = list(range(len(population)))\n",
    "    for _ in range(k):\n",
    "        competitors_indices = np.random.choice(indices, tournsize, replace=False)\n",
    "        competitors = [population[i] for i in competitors_indices]\n",
    "        selected.append(max(competitors, key=lambda ind: ind.fitness.values[0]))\n",
    "    return selected"
   ]
  },
  {
   "cell_type": "code",
   "execution_count": null,
   "id": "bdb5b529",
   "metadata": {},
   "outputs": [],
   "source": [
    "toolbox.register(\"select\", tournament_selection)\n",
    "hof = tools.HallOfFame(1)"
   ]
  },
  {
   "cell_type": "code",
   "execution_count": null,
   "id": "f44744b8",
   "metadata": {},
   "outputs": [],
   "source": [
    "population_size = X_combined.shape[0] # Set population size equal to the number of rows in your dataset\n",
    "population = toolbox.population(n=population_size) # Initialize population with rows of the dataset\n",
    "population,log=algorithms.eaMuPlusLambda(population, toolbox, mu=population_size,lambda_=2*population_size, cxpb=0.7, mutpb=0.2, ngen=0, stats=None, halloffame=hof)\n",
    "best_individuals = hof\n",
    "df1=pd.DataFrame(population[0])\n",
    "df2=pd.DataFrame(population[0][0])\n",
    "df2.to_csv('geneticalgooutput.csv')"
   ]
  },
  {
   "cell_type": "code",
   "execution_count": null,
   "id": "17aba7c5",
   "metadata": {},
   "outputs": [],
   "source": []
  }
 ],
 "metadata": {
  "kernelspec": {
   "display_name": "Python 3 (ipykernel)",
   "language": "python",
   "name": "python3"
  },
  "language_info": {
   "codemirror_mode": {
    "name": "ipython",
    "version": 3
   },
   "file_extension": ".py",
   "mimetype": "text/x-python",
   "name": "python",
   "nbconvert_exporter": "python",
   "pygments_lexer": "ipython3",
   "version": "3.11.5"
  }
 },
 "nbformat": 4,
 "nbformat_minor": 5
}
